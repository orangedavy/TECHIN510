{
 "cells": [
  {
   "cell_type": "markdown",
   "metadata": {},
   "source": [
    "# Milestone 1\n",
    "Building on previous exercises, build an interactive application that asks the user a series of questions and then stores the user's answers for later analysis."
   ]
  },
  {
   "cell_type": "markdown",
   "metadata": {},
   "source": [
    "## Requirements\n",
    "Your submission should include the following:\n",
    "- A Chatbot that asks three users a series of at least three questions.\n",
    "- Your chatbot should store the user's responses in a data structure, preferably a Pandas DataFrame, so that it can present a graphical analysis of the responses.\n",
    "- Your chatbot should provide at least one visualization, such as a vertical bar chart, that provides a basic summary and analysis of the user input."
   ]
  },
  {
   "cell_type": "code",
   "execution_count": 4,
   "metadata": {},
   "outputs": [],
   "source": [
    "import pandas as pd\n",
    "import matplotlib.pyplot as plt"
   ]
  },
  {
   "cell_type": "code",
   "execution_count": 5,
   "metadata": {},
   "outputs": [],
   "source": [
    "class Bot:\n",
    "\n",
    "    def __init__(self):\n",
    "\n",
    "        self.path = \"./chat_data.csv\"\n",
    "        self.data = None\n",
    "\n",
    "        self.response = []\n",
    "        self.read_chat()\n",
    "\n",
    "    def read_chat(self):\n",
    "\n",
    "        try:\n",
    "            self.data = pd.read_csv(self.path)\n",
    "        except FileNotFoundError:\n",
    "            self.data = pd.DataFrame(columns=[\n",
    "                \"id\",\n",
    "                \"name\",\n",
    "                \"city\",\n",
    "                \"pot_lover\",\n",
    "                \"cat_num\",\n",
    "            ])\n",
    "\n",
    "    def save_chat(self):\n",
    "\n",
    "        index = len(self.data)\n",
    "        self.data.loc[index] = {\n",
    "            \"id\": index + 1,\n",
    "            \"name\": self.response[0],\n",
    "            \"city\": self.response[1],\n",
    "            \"pot_lover\": self.response[2],\n",
    "            \"cat_num\": self.response[3],\n",
    "        }\n",
    "\n",
    "        self.data.to_csv(self.path, index=False)\n",
    "\n",
    "    def ask_question(self, info, alpha=False, num=False):\n",
    "\n",
    "        answer = input(f\"One question for you: {info}?\")\n",
    "\n",
    "        if num:\n",
    "            if not answer.isdigit() or int(answer) < 0:\n",
    "                print(f\"Tell me about {info}. Come on!\")\n",
    "                return self.ask_question(info, alpha=False, num=True)\n",
    "\n",
    "        if alpha:\n",
    "            answer = answer.upper()\n",
    "            if not answer.isalpha() or answer not in ['Y', 'YES', 'N', 'NO', 'MAYBE', 'N/A']:\n",
    "                print(f\"Tell me about {info}. You have options: Yes, No, Maybe.\\n\")\n",
    "                return self.ask_question(info, alpha=True, num=False)\n",
    "            else:\n",
    "                if answer in ['Y', 'YES']:\n",
    "                    answer = 1\n",
    "                elif answer in ['N', 'NO']:\n",
    "                    answer = 0\n",
    "                else:\n",
    "                    answer = 0.5\n",
    "        \n",
    "        self.response.append(int(answer) if num else answer)\n",
    "\n",
    "    def conversation(self):\n",
    "\n",
    "        escape = [\"QUIT\", \"EXIT\", \"BYE\", \"STOP\"]\n",
    "        loop = True\n",
    "        count = 0\n",
    "\n",
    "        while loop:\n",
    "            print(f\"Bello! I'll ask you sae questions as a minion.\"\n",
    "                #   f\"You can quit by typing QUIT, EXIT, BYE, or STOP where possible.\"\n",
    "            )\n",
    "            self.ask_question('name')\n",
    "            self.ask_question('city')\n",
    "            self.ask_question('do you love potatoes', alpha=True)\n",
    "            self.ask_question('how many cats do you have', num=True)\n",
    "\n",
    "            self.save_chat()\n",
    "            self.response = []\n",
    "            count += 1\n",
    "            loop = False if count >= 3 else True\n",
    "\n",
    "            print(f\"Tank yu! Let's switch to the next person. Poopaye!\")\n",
    "\n",
    "    def analysis(self):\n",
    "        \n",
    "        pot_lover = self.data['pot_lover'].value_counts()\n",
    "        plt.subplot(211)\n",
    "        pot_lover.plot.bar(rot=0)\n",
    "        plt.title('Are you a potato lover?')\n",
    "        \n",
    "        cat_num = self.data['cat_num']\n",
    "        plt.subplot(212)\n",
    "        cat_num.plot.barh(rot=0)\n",
    "        plt.xlabel('number of cats')\n",
    "        plt.ylabel('number of people')\n",
    "        plt.title('How many cats do you have?')\n",
    "\n",
    "        plt.tight_layout()\n",
    "        plt.show()"
   ]
  },
  {
   "cell_type": "code",
   "execution_count": 6,
   "metadata": {},
   "outputs": [
    {
     "name": "stdout",
     "output_type": "stream",
     "text": [
      "Bello! I'll ask you sae questions as a minion.\n",
      "Tank yu! Let's switch to the next person. Poopaye!\n",
      "Bello! I'll ask you sae questions as a minion.\n",
      "Tank yu! Let's switch to the next person. Poopaye!\n",
      "Bello! I'll ask you sae questions as a minion.\n",
      "Tank yu! Let's switch to the next person. Poopaye!\n"
     ]
    },
    {
     "data": {
      "image/png": "[encoded data removed]",
      "text/plain": [
       "<Figure size 640x480 with 2 Axes>"
      ]
     },
     "metadata": {},
     "output_type": "display_data"
    }
   ],
   "source": [
    "if __name__ == '__main__':\n",
    "\n",
    "    chatbot = Bot()\n",
    "    chatbot.conversation()\n",
    "    chatbot.analysis()"
   ]
  }
 ],
 "metadata": {
  "kernelspec": {
   "display_name": "Python 3",
   "language": "python",
   "name": "python3"
  },
  "language_info": {
   "codemirror_mode": {
    "name": "ipython",
    "version": 3
   },
   "file_extension": ".py",
   "mimetype": "text/x-python",
   "name": "python",
   "nbconvert_exporter": "python",
   "pygments_lexer": "ipython3",
   "version": "3.11.0"
  },
  "vscode": {
   "interpreter": {
    "hash": "aee8b7b246df8f9039afb4144a1f6fd8d2ca17a180786b69acc140d282b71a49"
   }
  }
 },
 "nbformat": 4,
 "nbformat_minor": 1
}
