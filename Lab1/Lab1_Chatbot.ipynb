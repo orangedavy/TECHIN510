{
 "cells": [
  {
   "cell_type": "markdown",
   "id": "20feb6b3",
   "metadata": {},
   "source": [
    "# Working with Chatbots"
   ]
  },
  {
   "cell_type": "markdown",
   "id": "95a0889f",
   "metadata": {},
   "source": [
    "## Activity 1: Demo an Existing Chatbot\n",
    "Before we begin creating our own chatbots, let's take a look at a few example chatbots from the popular NLTK library."
   ]
  },
  {
   "cell_type": "markdown",
   "id": "d9a8774c",
   "metadata": {},
   "source": [
    "### Install the Natural Language Toolkit (NLTK)\n",
    "First we install the NLTK library and call the `.chat.chatbots()` method to see a selection of simple pre-built chatbots "
   ]
  },
  {
   "cell_type": "code",
   "execution_count": 2,
   "id": "cc06c275",
   "metadata": {},
   "outputs": [
    {
     "name": "stdout",
     "output_type": "stream",
     "text": [
      "Requirement already satisfied: nltk in /Library/Frameworks/Python.framework/Versions/3.11/lib/python3.11/site-packages (3.8.1)\n",
      "Requirement already satisfied: click in /Library/Frameworks/Python.framework/Versions/3.11/lib/python3.11/site-packages (from nltk) (8.1.3)\n",
      "Requirement already satisfied: joblib in /Library/Frameworks/Python.framework/Versions/3.11/lib/python3.11/site-packages (from nltk) (1.2.0)\n",
      "Requirement already satisfied: regex>=2021.8.3 in /Library/Frameworks/Python.framework/Versions/3.11/lib/python3.11/site-packages (from nltk) (2022.10.31)\n",
      "Requirement already satisfied: tqdm in /Library/Frameworks/Python.framework/Versions/3.11/lib/python3.11/site-packages (from nltk) (4.64.1)\n",
      "Note: you may need to restart the kernel to use updated packages.\n"
     ]
    }
   ],
   "source": [
    "pip install nltk"
   ]
  },
  {
   "cell_type": "markdown",
   "id": "6e64b24c",
   "metadata": {},
   "source": [
    "We'll also install pandas which we'll be using the read text files"
   ]
  },
  {
   "cell_type": "code",
   "execution_count": 3,
   "id": "e70245e9",
   "metadata": {},
   "outputs": [
    {
     "name": "stdout",
     "output_type": "stream",
     "text": [
      "Requirement already satisfied: pandas in /Library/Frameworks/Python.framework/Versions/3.11/lib/python3.11/site-packages (1.5.2)\n",
      "Requirement already satisfied: python-dateutil>=2.8.1 in /Users/orangedavy/Library/Python/3.11/lib/python/site-packages (from pandas) (2.8.2)\n",
      "Requirement already satisfied: pytz>=2020.1 in /Library/Frameworks/Python.framework/Versions/3.11/lib/python3.11/site-packages (from pandas) (2022.7)\n",
      "Requirement already satisfied: numpy>=1.21.0 in /Library/Frameworks/Python.framework/Versions/3.11/lib/python3.11/site-packages (from pandas) (1.24.1)\n",
      "Requirement already satisfied: six>=1.5 in /Users/orangedavy/Library/Python/3.11/lib/python/site-packages (from python-dateutil>=2.8.1->pandas) (1.16.0)\n",
      "Note: you may need to restart the kernel to use updated packages.\n"
     ]
    }
   ],
   "source": [
    "pip install pandas"
   ]
  },
  {
   "cell_type": "code",
   "execution_count": 4,
   "id": "7456c029",
   "metadata": {},
   "outputs": [],
   "source": [
    "import pandas as pd"
   ]
  },
  {
   "cell_type": "code",
   "execution_count": 5,
   "id": "4374576d",
   "metadata": {},
   "outputs": [],
   "source": [
    "import nltk"
   ]
  },
  {
   "cell_type": "code",
   "execution_count": null,
   "id": "7c0fc284",
   "metadata": {},
   "outputs": [],
   "source": [
    "nltk.chat.chatbots()"
   ]
  },
  {
   "cell_type": "markdown",
   "id": "5bebd13b",
   "metadata": {},
   "source": [
    "## Lab 1: Create Your Own Chatbot"
   ]
  },
  {
   "cell_type": "markdown",
   "id": "77d77d36",
   "metadata": {},
   "source": [
    "###  Step 1: Barebones Interactive Chatbot\n",
    "You will first create a simple interactive loop between user input and program output. Before entering the loop, your program should prompt the user to request their input (e.g. \"Hi, how can I help you?\"). At each iteration of the loop, the program should take user input (typed onto the terminal pressing 'Enter' at the end) and then output simple statistical information about that input (e.g. \"You entered X letters and Y words\"). Also add a way to exit the loop; for example, if the user types \"Bye\" the loop should end and your program should halt after a final prompt to the user to acknowledge that the interaction has ended. Add your code below."
   ]
  },
  {
   "cell_type": "code",
   "execution_count": null,
   "id": "032aac1a",
   "metadata": {},
   "outputs": [],
   "source": [
    "## Barebones interactice chatbot\n",
    "\n",
    "loop = True\n",
    "name = input(\"Hi, can I have your name?\")\n",
    "\n",
    "while loop:\n",
    "    info = input(f\"How can I help today, {name}?\")\n",
    "    count_char = len([_ for _ in info if _.isalpha()])\n",
    "    count_word = len(info.split())\n",
    "    print(f\"You entered {count_word} words and {count_char} letters.\")\n",
    "\n",
    "    intent = input(\"Do you want to continue?\")\n",
    "    loop = False if intent == \"No\" else True"
   ]
  },
  {
   "cell_type": "markdown",
   "id": "95fe6739",
   "metadata": {},
   "source": [
    "### Step 2: Simple ListenBot\n",
    "\n",
    "Next you will upgrade your chatbot to be a \"good listener.\" Do not worry about deleting or overwriting things you did in the previous step. Before entering into the interactive loop, your chatbot should ask the user's name and remember it throughout the chat. It should also prompt the user to talk about something (e.g. \"How was your day, Ashitaka?\") As part of the loop, the chatbot should analyze the user's input and decide whether to give a positive, negative, or neutral response. To analyze the input, we have supplied a fixed list of [positive](http://ptrckprry.com/course/ssd/data/positive-words.txt) and [negative](http://ptrckprry.com/course/ssd/data/negative-words.txt) words and which will determine the number of positive and negative words that occur in the user's input. For the most simple version of the `ListenBot`, your list of positive and negative words do not have to be too long, just enough to showcase a simple conversation. However, the lists we supply will make your `ListenBot` more robust. \n",
    "\n",
    "The chatbot should respond based on the number of positive and negative words in the user's input. Your chatbot should have at least two different responses of each type and should alternate between responses, e.g.:\n",
    "* Positive responses: \"Great!\" \"Cool!\"\n",
    "* Negative responses: \"Too bad!\" \"Womp, womp!\"\n",
    "* Neutral responses: \"Hmm..\" \"I see.\"\n",
    "\n",
    "As before, there should be at least one way to end the conversation. You can make the ways to end the conversation known to the user in your earlier prompt or somewhere during the conversation. Add your updated code below."
   ]
  },
  {
   "cell_type": "code",
   "execution_count": 17,
   "id": "afc72e51",
   "metadata": {},
   "outputs": [
    {
     "name": "stdout",
     "output_type": "stream",
     "text": [
      "Sure.\n"
     ]
    }
   ],
   "source": [
    "## Simple ListenBot\n",
    "\n",
    "import random\n",
    "\n",
    "positive = list(pd.read_csv(\"positive_words.txt\", header=0).iloc[:,0].values)\n",
    "negative = list(pd.read_csv(\"negative_words.txt\", header=0).iloc[:,0].values)\n",
    "response_pos = [\"Good for you.\", \"Wow I'm thrilled.\", \"Oh really?\", \"Congrats.\"]\n",
    "response_neg = [\"So sorry to hear.\", \"Poor you.\", \"Calm down, will you?\", \"Oh no.\"]\n",
    "response_neu = [\"Whatever.\", \"Alrighty.\", \"Sure.\", \"Oh okay.\"]\n",
    "\n",
    "def sentiment(utterance):\n",
    "    words = utterance.split()\n",
    "    count_pos = sum(w in positive for w in words)\n",
    "    count_neg = sum(w in negative for w in words)\n",
    "    return count_pos - count_neg\n",
    "\n",
    "loop = True\n",
    "name = input(\"Hi, can I have your name?\")\n",
    "\n",
    "while loop:\n",
    "    info = input(f\"How are you today, {name}?\")\n",
    "    stmt = sentiment(info)\n",
    "    if stmt > 0:\n",
    "        print(random.choice(response_pos))\n",
    "    elif stmt < 0:\n",
    "        print(random.choice(response_neg))\n",
    "    else:\n",
    "        print(random.choice(response_neu))\n",
    "\n",
    "    intent = input(\"Do you wish to continue?\")\n",
    "    loop = False if intent in [\"NO\"] else True"
   ]
  },
  {
   "cell_type": "markdown",
   "id": "4a787e19",
   "metadata": {},
   "source": [
    "### Step 3: Improved Listenbot\n",
    "\n",
    "Now test your chatbot with a classmate or friend. Based on breakdowns or awkwardness in these tests choose at least one additional improvement and implement it below. Make sure to descibe your improvement in the list below."
   ]
  },
  {
   "cell_type": "code",
   "execution_count": 19,
   "id": "315aee0b",
   "metadata": {},
   "outputs": [
    {
     "name": "stdout",
     "output_type": "stream",
     "text": [
      "Poor you.\n",
      "Alrighty.\n"
     ]
    }
   ],
   "source": [
    "## Improved ListenBot\n",
    "\n",
    "response_pos = [\"Wow I'm thrilled.\", \"Oh really?\", \"Congrats.\"]\n",
    "response_neg = [\"So sorry to hear.\", \"Poor you.\", \"Oh no.\"]\n",
    "response_neu = [\"Alrighty.\", \"Sure.\", \"Oh okay.\"]\n",
    "\n",
    "loop = True\n",
    "name = input(\"Hi, can I have your name?\")\n",
    "\n",
    "while loop:\n",
    "    info = input(f\"How are you today, {name}?\")\n",
    "    stmt = sentiment(info)\n",
    "    if stmt > 0:\n",
    "        print(random.choice(response_pos))\n",
    "    elif stmt < 0:\n",
    "        print(random.choice(response_neg))\n",
    "    else:\n",
    "        print(random.choice(response_neu))\n",
    "\n",
    "    intent = input(\"Do you wish to continue?\")\n",
    "    loop = False if intent.upper() in [\"NO\", \"Q\", \"EXIT\", \"BYE\", \"STOP\"] else True"
   ]
  },
  {
   "attachments": {},
   "cell_type": "markdown",
   "id": "35d5faf5",
   "metadata": {},
   "source": [
    "### List of Improvements\n",
    "Provide a list or table here in `markdown` containing the improvements you made and a brief description of why you made them."
   ]
  },
  {
   "attachments": {},
   "cell_type": "markdown",
   "id": "cc9eac4d",
   "metadata": {},
   "source": [
    "| Change                | Description                                                                                        | Reason                                                                                            |\n",
    "|-----------------------|----------------------------------------------------------------------------------------------------|---------------------------------------------------------------------------------------------------|\n",
    "| Modified responses    | Responses trimmed for different sentiments that may seem surly or sassy.                           | For better communication with the users, the chatbot needs to be consistent in persona and style. |\n",
    "| Expanded quit methods | Automatically converts the intent to continue to upper case for better matching with more options. | People have different ways to express the intention to quit, which should be covered to the best. |"
   ]
  }
 ],
 "metadata": {
  "kernelspec": {
   "display_name": "Python 3",
   "language": "python",
   "name": "python3"
  },
  "language_info": {
   "codemirror_mode": {
    "name": "ipython",
    "version": 3
   },
   "file_extension": ".py",
   "mimetype": "text/x-python",
   "name": "python",
   "nbconvert_exporter": "python",
   "pygments_lexer": "ipython3",
   "version": "3.11.0"
  },
  "vscode": {
   "interpreter": {
    "hash": "aee8b7b246df8f9039afb4144a1f6fd8d2ca17a180786b69acc140d282b71a49"
   }
  }
 },
 "nbformat": 4,
 "nbformat_minor": 5
}
